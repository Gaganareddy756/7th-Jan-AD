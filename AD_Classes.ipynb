{
  "nbformat": 4,
  "nbformat_minor": 0,
  "metadata": {
    "colab": {
      "provenance": []
    },
    "kernelspec": {
      "name": "python3",
      "display_name": "Python 3"
    },
    "language_info": {
      "name": "python"
    }
  },
  "cells": [
    {
      "cell_type": "code",
      "execution_count": null,
      "metadata": {
        "id": "MG957h4UFHZ4",
        "colab": {
          "base_uri": "https://localhost:8080/"
        },
        "outputId": "62cf164b-75ce-4ea2-922c-ccdb6784193f"
      },
      "outputs": [
        {
          "output_type": "stream",
          "name": "stdout",
          "text": [
            "Original Integer: 42\n",
            "Result after multiplication: 84\n"
          ]
        }
      ],
      "source": [
        "my_int = 42\n",
        "print(\"Original Integer:\", my_int)\n",
        "result=my_int*2\n",
        "print(\"Result after multiplication:\",result)"
      ]
    },
    {
      "cell_type": "code",
      "source": [
        "import random\n",
        "responses ={\n",
        "    \"hours:\" \"monday to friday\",\n",
        "    \"products:\" \"electronics, clothing, accessories\",\n",
        "    \"location:\" \" We offer u remote locations\",\n",
        "    \"help:\" \" How can i assist you today? you can ask about hours,products,location,help.\"\n",
        "}\n",
        "def chatbot_responses(user_input):\n",
        "  user_input = user_input.lower()\n",
        "\n",
        "  if \"hours\" in user_input:\n",
        "    return responses[\"hours\"]\n",
        "  elif \"products\" in user_input:\n",
        "    return responses[\"products\"]\n",
        "  elif \"location\" in user_input:\n",
        "    return responses[\"location\"]\n",
        "  elif \"help\" in user_input:\n",
        "    return responses[\"help\"]\n",
        "  else:\n",
        "      return \"Sorry\"\n",
        "\n",
        "print(\"Chatbot: Hello! How can I assist you today?\")\n",
        "while True:\n",
        "  user_input = input(\"You: \")\n",
        "  if user_input.lower() in [\"exit,\" \"quit\"]:\n",
        "    print(\"Chatbot: Goodbye!\")\n",
        "    break\n",
        "  response = chatbot_responses(user_input)\n",
        "  print(\"Chatbot:\", response)"
      ],
      "metadata": {
        "colab": {
          "base_uri": "https://localhost:8080/",
          "height": 349
        },
        "id": "ZHohz4RX7a9X",
        "outputId": "325f71c6-c1da-42e6-b30c-3e73bede0337"
      },
      "execution_count": null,
      "outputs": [
        {
          "name": "stdout",
          "output_type": "stream",
          "text": [
            "Chatbot: Hello! How can I assist you today?\n",
            "You: hours\n"
          ]
        },
        {
          "output_type": "error",
          "ename": "TypeError",
          "evalue": "'set' object is not subscriptable",
          "traceback": [
            "\u001b[0;31m---------------------------------------------------------------------------\u001b[0m",
            "\u001b[0;31mTypeError\u001b[0m                                 Traceback (most recent call last)",
            "\u001b[0;32m<ipython-input-7-34201cd9d428>\u001b[0m in \u001b[0;36m<cell line: 23>\u001b[0;34m()\u001b[0m\n\u001b[1;32m     26\u001b[0m     \u001b[0mprint\u001b[0m\u001b[0;34m(\u001b[0m\u001b[0;34m\"Chatbot: Goodbye!\"\u001b[0m\u001b[0;34m)\u001b[0m\u001b[0;34m\u001b[0m\u001b[0;34m\u001b[0m\u001b[0m\n\u001b[1;32m     27\u001b[0m     \u001b[0;32mbreak\u001b[0m\u001b[0;34m\u001b[0m\u001b[0;34m\u001b[0m\u001b[0m\n\u001b[0;32m---> 28\u001b[0;31m   \u001b[0mresponse\u001b[0m \u001b[0;34m=\u001b[0m \u001b[0mchatbot_responses\u001b[0m\u001b[0;34m(\u001b[0m\u001b[0muser_input\u001b[0m\u001b[0;34m)\u001b[0m\u001b[0;34m\u001b[0m\u001b[0;34m\u001b[0m\u001b[0m\n\u001b[0m\u001b[1;32m     29\u001b[0m   \u001b[0mprint\u001b[0m\u001b[0;34m(\u001b[0m\u001b[0;34m\"Chatbot:\"\u001b[0m\u001b[0;34m,\u001b[0m \u001b[0mresponse\u001b[0m\u001b[0;34m)\u001b[0m\u001b[0;34m\u001b[0m\u001b[0;34m\u001b[0m\u001b[0m\n",
            "\u001b[0;32m<ipython-input-7-34201cd9d428>\u001b[0m in \u001b[0;36mchatbot_responses\u001b[0;34m(user_input)\u001b[0m\n\u001b[1;32m     10\u001b[0m \u001b[0;34m\u001b[0m\u001b[0m\n\u001b[1;32m     11\u001b[0m   \u001b[0;32mif\u001b[0m \u001b[0;34m\"hours\"\u001b[0m \u001b[0;32min\u001b[0m \u001b[0muser_input\u001b[0m\u001b[0;34m:\u001b[0m\u001b[0;34m\u001b[0m\u001b[0;34m\u001b[0m\u001b[0m\n\u001b[0;32m---> 12\u001b[0;31m     \u001b[0;32mreturn\u001b[0m \u001b[0mresponses\u001b[0m\u001b[0;34m[\u001b[0m\u001b[0;34m\"hours\"\u001b[0m\u001b[0;34m]\u001b[0m\u001b[0;34m\u001b[0m\u001b[0;34m\u001b[0m\u001b[0m\n\u001b[0m\u001b[1;32m     13\u001b[0m   \u001b[0;32melif\u001b[0m \u001b[0;34m\"products\"\u001b[0m \u001b[0;32min\u001b[0m \u001b[0muser_input\u001b[0m\u001b[0;34m:\u001b[0m\u001b[0;34m\u001b[0m\u001b[0;34m\u001b[0m\u001b[0m\n\u001b[1;32m     14\u001b[0m     \u001b[0;32mreturn\u001b[0m \u001b[0mresponses\u001b[0m\u001b[0;34m[\u001b[0m\u001b[0;34m\"products\"\u001b[0m\u001b[0;34m]\u001b[0m\u001b[0;34m\u001b[0m\u001b[0;34m\u001b[0m\u001b[0m\n",
            "\u001b[0;31mTypeError\u001b[0m: 'set' object is not subscriptable"
          ]
        }
      ]
    },
    {
      "cell_type": "code",
      "source": [
        "t1=('a',)\n",
        "type(t1)\n",
        " #<type 'tuple'>\n",
        "print(type(t1))"
      ],
      "metadata": {
        "colab": {
          "base_uri": "https://localhost:8080/"
        },
        "id": "Bl_teugih-nK",
        "outputId": "611d1e46-eff9-4497-c842-da5217f19bfd"
      },
      "execution_count": null,
      "outputs": [
        {
          "output_type": "stream",
          "name": "stdout",
          "text": [
            "<class 'tuple'>\n"
          ]
        }
      ]
    },
    {
      "cell_type": "code",
      "source": [
        "student = {\n",
        "    \"Name\": 1,\n",
        "    \"id\": 2,\n",
        "    \"section\": 3\n",
        "}\n",
        "print(student)"
      ],
      "metadata": {
        "colab": {
          "base_uri": "https://localhost:8080/"
        },
        "id": "PuvoyeIPiGmh",
        "outputId": "dbdd34cf-ae6d-4a38-a1db-7248aebe9c6f"
      },
      "execution_count": null,
      "outputs": [
        {
          "output_type": "stream",
          "name": "stdout",
          "text": [
            "{'Name': 1, 'id': 2, 'section': 3}\n"
          ]
        }
      ]
    },
    {
      "cell_type": "code",
      "source": [
        "student_data = {\n",
        "    \"number_of_hours_studied\": [5, 3, 8, 2, 6],\n",
        "    \"screen_time\": [2, 4, 1, 5, 3],\n",
        "    \"name\": [\"keerth\", \"pushp\", \"srivall\", \"reddy\", \"konda\"],\n",
        "    \"marks\": [85, 70, 95, 60, 88]\n",
        "}\n",
        "\n",
        "print(student_data)"
      ],
      "metadata": {
        "colab": {
          "base_uri": "https://localhost:8080/"
        },
        "id": "DmEn9T73iLMs",
        "outputId": "492c0b60-4ff3-4e8f-b496-31a3c0c8c1d8"
      },
      "execution_count": null,
      "outputs": [
        {
          "output_type": "stream",
          "name": "stdout",
          "text": [
            "{'number_of_hours_studied': [5, 3, 8, 2, 6], 'screen_time': [2, 4, 1, 5, 3], 'name': ['keerth', 'pushp', 'srivall', 'reddy', 'konda'], 'marks': [85, 70, 95, 60, 88]}\n"
          ]
        }
      ]
    },
    {
      "cell_type": "code",
      "source": [
        "text = \"Hello World! Python is fun\"\n",
        "swapped_text=text.swapcase()\n",
        "print(\"Original text:\", text)\n",
        "print(\"Swapped Text:\", swapped_text)"
      ],
      "metadata": {
        "colab": {
          "base_uri": "https://localhost:8080/"
        },
        "id": "6tOVeJihiMrh",
        "outputId": "40d46bb6-2cee-4c7d-92a3-c7fee62c3943"
      },
      "execution_count": null,
      "outputs": [
        {
          "output_type": "stream",
          "name": "stdout",
          "text": [
            "Original text: Hello World! Python is fun\n",
            "Swapped Text: hELLO wORLD! pYTHON IS FUN\n"
          ]
        }
      ]
    },
    {
      "cell_type": "code",
      "source": [
        "r=range(10)\n",
        "print(r)\n",
        "my_list=list(r)\n",
        "print(my_list)"
      ],
      "metadata": {
        "colab": {
          "base_uri": "https://localhost:8080/"
        },
        "id": "05YRKNZ7i_6e",
        "outputId": "f1c0b0ee-d08a-4e89-ac6a-ca07ecaef9f1"
      },
      "execution_count": null,
      "outputs": [
        {
          "output_type": "stream",
          "name": "stdout",
          "text": [
            "range(0, 10)\n",
            "[0, 1, 2, 3, 4, 5, 6, 7, 8, 9]\n"
          ]
        }
      ]
    },
    {
      "cell_type": "code",
      "source": [
        "my_list=list(range(5,16,2))\n",
        "print(my_list)"
      ],
      "metadata": {
        "colab": {
          "base_uri": "https://localhost:8080/"
        },
        "id": "BO9NluSJjbjL",
        "outputId": "57383955-e1bf-49d8-c0cc-1fe591ec6d6e"
      },
      "execution_count": null,
      "outputs": [
        {
          "output_type": "stream",
          "name": "stdout",
          "text": [
            "[5, 7, 9, 11, 13, 15]\n"
          ]
        }
      ]
    },
    {
      "cell_type": "code",
      "source": [
        "def my_function(*args):\n",
        "  total=sum(args)\n",
        "  return total\n",
        "print(\"Sum of 1 2 3:\",my_function(1,2,3))\n",
        "print(\"Sum of 23 34 45:\", my_function(23,34,45))\n",
        "print(\"Sum of no numbers:\", my_function())"
      ],
      "metadata": {
        "colab": {
          "base_uri": "https://localhost:8080/"
        },
        "id": "WtxXyiRZjwFq",
        "outputId": "e7931b08-5513-471f-cb4c-972900e14657"
      },
      "execution_count": null,
      "outputs": [
        {
          "output_type": "stream",
          "name": "stdout",
          "text": [
            "Sum of 1 2 3: 6\n",
            "Sum of 23 34 45: 102\n",
            "Sum of no numbers: 0\n"
          ]
        }
      ]
    },
    {
      "cell_type": "code",
      "source": [
        "add = lambda x, y: x + y\n",
        "result = add(5, 56)\n",
        "print(result)"
      ],
      "metadata": {
        "colab": {
          "base_uri": "https://localhost:8080/"
        },
        "id": "E_uK5vTCmfgo",
        "outputId": "b4b5bb03-9557-4f6b-e9c7-f29fb115d692"
      },
      "execution_count": null,
      "outputs": [
        {
          "output_type": "stream",
          "name": "stdout",
          "text": [
            "61\n"
          ]
        }
      ]
    },
    {
      "cell_type": "code",
      "source": [
        "correct_username = \"gagana\"\n",
        "correct_password = \"qwertyuiop\"\n",
        "\n",
        "while True:\n",
        "    username = input(\"Enter username: \")\n",
        "    password = input(\"Enter password: \")\n",
        "\n",
        "    if username == correct_username and password == correct_password:\n",
        "        print(\"Access granted!\")\n",
        "        break\n",
        "    else:\n",
        "        print(\"Incorrect username or password. Please try again.\")"
      ],
      "metadata": {
        "colab": {
          "base_uri": "https://localhost:8080/"
        },
        "id": "-MYG6BeaodIn",
        "outputId": "25e8bb7c-fb99-471c-f069-adc5d61afd11"
      },
      "execution_count": null,
      "outputs": [
        {
          "output_type": "stream",
          "name": "stdout",
          "text": [
            "Enter username: gagana\n",
            "Enter password: qwertyuiop\n",
            "Access granted!\n"
          ]
        }
      ]
    },
    {
      "cell_type": "code",
      "source": [],
      "metadata": {
        "id": "mxbflSBIpMyX"
      },
      "execution_count": null,
      "outputs": []
    }
  ]
}